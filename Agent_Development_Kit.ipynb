{
  "nbformat": 4,
  "nbformat_minor": 0,
  "metadata": {
    "colab": {
      "provenance": [],
      "authorship_tag": "ABX9TyMkmBIXGfbi4UlPDf/Ru9bD",
      "include_colab_link": true
    },
    "kernelspec": {
      "name": "python3",
      "display_name": "Python 3"
    },
    "language_info": {
      "name": "python"
    }
  },
  "cells": [
    {
      "cell_type": "markdown",
      "metadata": {
        "id": "view-in-github",
        "colab_type": "text"
      },
      "source": [
        "<a href=\"https://colab.research.google.com/github/rajeshradhakrishnanmvk/moonlight/blob/main/Agent_Development_Kit.ipynb\" target=\"_parent\"><img src=\"https://colab.research.google.com/assets/colab-badge.svg\" alt=\"Open In Colab\"/></a>"
      ]
    },
    {
      "cell_type": "code",
      "execution_count": null,
      "metadata": {
        "id": "zTyzobqCisJ_"
      },
      "outputs": [],
      "source": [
        "!pip install google-adk"
      ]
    },
    {
      "cell_type": "code",
      "source": [
        "import asyncio\n",
        "from datetime import datetime, timedelta"
      ],
      "metadata": {
        "id": "k6hOQQPrneY3"
      },
      "execution_count": 2,
      "outputs": []
    },
    {
      "cell_type": "code",
      "source": [
        "# ------------------------------\n",
        "# 1. Application Registry\n",
        "# ------------------------------\n",
        "# This registry keeps track of all created applications.\n",
        "class AppRegistry:\n",
        "    def __init__(self):\n",
        "        self.apps = {}\n",
        "\n",
        "    def get_app(self, app_id: str):\n",
        "        return self.apps.get(app_id)\n",
        "\n",
        "    def save_app(self, app_id: str, app_data: dict):\n",
        "        self.apps[app_id] = app_data\n",
        "\n",
        "    def delete_app(self, app_id: str):\n",
        "        if app_id in self.apps:\n",
        "            del self.apps[app_id]"
      ],
      "metadata": {
        "id": "E8Ly6BP-njuF"
      },
      "execution_count": 3,
      "outputs": []
    },
    {
      "cell_type": "code",
      "source": [
        "# Global registry instance\n",
        "app_registry = AppRegistry()"
      ],
      "metadata": {
        "id": "pBfbLG0Pnl1R"
      },
      "execution_count": 4,
      "outputs": []
    },
    {
      "cell_type": "code",
      "source": [
        "# ------------------------------\n",
        "# 2. Simulated LLM Agent (LLMAgent)\n",
        "# ------------------------------\n",
        "# In a production ADK solution you would use an ADK Agent (or LiteLLM wrapper)\n",
        "# to interact with a large language model. Here we simulate the API call.\n",
        "class LLMAgent:\n",
        "    async def generate_completion(self, prompt: str) -> str:\n",
        "        # Simulate delay and simple code generation based on the prompt.\n",
        "        await asyncio.sleep(0.5)\n",
        "        if \"calculator\" in prompt.lower():\n",
        "            # A simple code snippet for a basic calculator\n",
        "            return (\n",
        "                \"def calculator(a, b):\\n\"\n",
        "                \"    return {\\n\"\n",
        "                \"       'add': a + b,\\n\"\n",
        "                \"       'subtract': a - b,\\n\"\n",
        "                \"       'multiply': a * b,\\n\"\n",
        "                \"       'divide': a / b if b != 0 else None\\n\"\n",
        "                \"    }\"\n",
        "            )\n",
        "        elif \"upgrade\" in prompt.lower():\n",
        "            # A simulated upgrade that adds a scientific function\n",
        "            return (\n",
        "                \"def scientific_calculator(a, b):\\n\"\n",
        "                \"    import math\\n\"\n",
        "                \"    result = calculator(a, b)\\n\"\n",
        "                \"    result['power'] = a ** b\\n\"\n",
        "                \"    result['sqrt_a'] = math.sqrt(a) if a >= 0 else None\\n\"\n",
        "                \"    return result\"\n",
        "            )\n",
        "        else:\n",
        "            return \"Simulated output for prompt: \" + prompt"
      ],
      "metadata": {
        "id": "JkVdNnH-vO1I"
      },
      "execution_count": 5,
      "outputs": []
    },
    {
      "cell_type": "code",
      "source": [
        "# ------------------------------\n",
        "# 3. Agent Classes\n",
        "# ------------------------------\n",
        "\n",
        "# CreatorAgent creates a new app (if it does not exist) and adds a feature using the LLM.\n",
        "class CreatorAgent:\n",
        "    def __init__(self, llm_agent: LLMAgent):\n",
        "        self.llm_agent = llm_agent\n",
        "\n",
        "    def create_app(self, app_id: str) -> dict:\n",
        "        print(f\"CreatorAgent: Creating new app '{app_id}'\")\n",
        "        new_app = {\n",
        "            \"id\": app_id,\n",
        "            \"features\": {},\n",
        "            \"createdAt\": datetime.now(),\n",
        "            \"updatedAt\": datetime.now()\n",
        "        }\n",
        "        app_registry.save_app(app_id, new_app)\n",
        "        return new_app\n",
        "\n",
        "    async def add_feature_with_llm(self, app: dict, feature_name: str, feature_prompt: str) -> dict:\n",
        "        print(f\"CreatorAgent: Adding feature '{feature_name}' using LLM (prompt: {feature_prompt})\")\n",
        "        generated_code = await self.llm_agent.generate_completion(feature_prompt)\n",
        "        app[\"features\"][feature_name] = {\n",
        "            \"generatedCode\": generated_code,\n",
        "            \"info\": \"Feature generated by LLMAgent\"\n",
        "        }\n",
        "        app[\"updatedAt\"] = datetime.now()\n",
        "        app_registry.save_app(app[\"id\"], app)\n",
        "        return app"
      ],
      "metadata": {
        "id": "ZZWgcYbbvbdm"
      },
      "execution_count": 6,
      "outputs": []
    },
    {
      "cell_type": "code",
      "source": [
        "# MaintainerAgent upgrades an existing feature.\n",
        "class MaintainerAgent:\n",
        "    def __init__(self, llm_agent: LLMAgent):\n",
        "        self.llm_agent = llm_agent\n",
        "\n",
        "    def update_feature(self, app: dict, feature_name: str, additional_data: dict) -> dict:\n",
        "        print(f\"MaintainerAgent: Updating feature '{feature_name}' for app '{app['id']}'\")\n",
        "        if feature_name in app[\"features\"]:\n",
        "            app[\"features\"][feature_name].update(additional_data)\n",
        "            app[\"updatedAt\"] = datetime.now()\n",
        "            app_registry.save_app(app[\"id\"], app)\n",
        "        return app\n",
        "\n",
        "    async def update_feature_with_llm(self, app: dict, feature_name: str, upgrade_prompt: str) -> dict:\n",
        "        print(f\"MaintainerAgent: Upgrading feature '{feature_name}' using LLM (prompt: {upgrade_prompt})\")\n",
        "        generated_upgrade = await self.llm_agent.generate_completion(upgrade_prompt)\n",
        "        if feature_name in app[\"features\"]:\n",
        "            app[\"features\"][feature_name][\"upgraded\"] = generated_upgrade\n",
        "            app[\"updatedAt\"] = datetime.now()\n",
        "            app_registry.save_app(app[\"id\"], app)\n",
        "        else:\n",
        "            print(f\"MaintainerAgent: Feature '{feature_name}' does not exist. Cannot upgrade.\")\n",
        "        return app"
      ],
      "metadata": {
        "id": "s5_5V_tSvtt3"
      },
      "execution_count": 7,
      "outputs": []
    },
    {
      "cell_type": "code",
      "source": [
        "# DestroyerAgent cleans up stale applications from the registry.\n",
        "class DestroyerAgent:\n",
        "    def __init__(self, max_age_seconds: int = 300):\n",
        "        self.max_age = timedelta(seconds=max_age_seconds)\n",
        "\n",
        "    def check_and_destroy_stale_apps(self):\n",
        "        print(\"DestroyerAgent: Checking for stale apps...\")\n",
        "        now = datetime.now()\n",
        "        stale_apps = [\n",
        "            app_id for app_id, app in app_registry.apps.items()\n",
        "            if now - app[\"updatedAt\"] > self.max_age\n",
        "        ]\n",
        "        for app_id in stale_apps:\n",
        "            print(f\"DestroyerAgent: App '{app_id}' is stale. Removing it.\")\n",
        "            app_registry.delete_app(app_id)"
      ],
      "metadata": {
        "id": "qQgyFaxovzLY"
      },
      "execution_count": 8,
      "outputs": []
    },
    {
      "cell_type": "code",
      "source": [
        "# CouncilController coordinates the agents.\n",
        "class CouncilController:\n",
        "    def __init__(self):\n",
        "        self.llm_agent = LLMAgent()\n",
        "        self.creator = CreatorAgent(self.llm_agent)\n",
        "        self.maintainer = MaintainerAgent(self.llm_agent)\n",
        "        self.destroyer = DestroyerAgent()\n",
        "\n",
        "    async def process_request(\n",
        "        self,\n",
        "        app_id: str,\n",
        "        feature_name: str = None,\n",
        "        feature_prompt: str = None,\n",
        "        fallback_data: dict = None\n",
        "    ) -> dict:\n",
        "        # Retrieve or create the app.\n",
        "        app = app_registry.get_app(app_id)\n",
        "        if not app:\n",
        "            app = self.creator.create_app(app_id)\n",
        "\n",
        "        # If a feature name is provided, either add or update it.\n",
        "        if feature_name:\n",
        "            if feature_name not in app[\"features\"]:\n",
        "                if feature_prompt:\n",
        "                    app = await self.creator.add_feature_with_llm(app, feature_name, feature_prompt)\n",
        "                else:\n",
        "                    app[\"features\"][feature_name] = fallback_data or {\"created\": True}\n",
        "                    app[\"updatedAt\"] = datetime.now()\n",
        "                    app_registry.save_app(app_id, app)\n",
        "            else:\n",
        "                if feature_prompt:\n",
        "                    app = await self.maintainer.update_feature_with_llm(app, feature_name, feature_prompt)\n",
        "                else:\n",
        "                    app = self.maintainer.update_feature(app, feature_name, fallback_data or {\"updated\": True})\n",
        "        # Clean up stale apps after processing.\n",
        "        self.destroyer.check_and_destroy_stale_apps()\n",
        "        return app"
      ],
      "metadata": {
        "id": "-A43rcA4v6TU"
      },
      "execution_count": 9,
      "outputs": []
    },
    {
      "cell_type": "code",
      "source": [
        "# Initialize the CouncilController to coordinate the agents.\n",
        "council = CouncilController()"
      ],
      "metadata": {
        "id": "zchw2wGywVke"
      },
      "execution_count": 11,
      "outputs": []
    },
    {
      "cell_type": "code",
      "source": [
        "# Simulate a new app request to create a calculator application.\n",
        "app_id = \"calc\"\n",
        "feature_name = \"calculator\"\n",
        "feature_prompt = (\"Create a simple calculator web app with addition, subtraction, \"\n",
        "                  \"multiplication, and division.\")"
      ],
      "metadata": {
        "id": "vdFmnOD0wdP2"
      },
      "execution_count": 13,
      "outputs": []
    },
    {
      "cell_type": "code",
      "source": [
        "print(\"\\n=== Processing App Creation Request ===\")\n",
        "app = await council.process_request(app_id, feature_name, feature_prompt, {\"info\": \"Initial feature data\"})\n",
        "print(\"\\n--- App after creation ---\")\n",
        "print(app)\n",
        "print(\"\\n--- Current Registry ---\")\n",
        "print(app_registry.apps)"
      ],
      "metadata": {
        "colab": {
          "base_uri": "https://localhost:8080/"
        },
        "id": "M6vv3gbHwqzp",
        "outputId": "f65811e6-89be-4157-ef3d-7c6d7485f228"
      },
      "execution_count": 14,
      "outputs": [
        {
          "output_type": "stream",
          "name": "stdout",
          "text": [
            "\n",
            "=== Processing App Creation Request ===\n",
            "MaintainerAgent: Upgrading feature 'calculator' using LLM (prompt: Create a simple calculator web app with addition, subtraction, multiplication, and division.)\n",
            "DestroyerAgent: Checking for stale apps...\n",
            "\n",
            "--- App after creation ---\n",
            "{'id': 'calc', 'features': {'calculator': {'generatedCode': \"def calculator(a, b):\\n    return {\\n       'add': a + b,\\n       'subtract': a - b,\\n       'multiply': a * b,\\n       'divide': a / b if b != 0 else None\\n    }\", 'info': 'Feature generated by LLMAgent', 'upgraded': \"def calculator(a, b):\\n    return {\\n       'add': a + b,\\n       'subtract': a - b,\\n       'multiply': a * b,\\n       'divide': a / b if b != 0 else None\\n    }\"}}, 'createdAt': datetime.datetime(2025, 4, 10, 8, 10, 39, 801417), 'updatedAt': datetime.datetime(2025, 4, 10, 8, 12, 3, 692531)}\n",
            "\n",
            "--- Current Registry ---\n",
            "{'calc': {'id': 'calc', 'features': {'calculator': {'generatedCode': \"def calculator(a, b):\\n    return {\\n       'add': a + b,\\n       'subtract': a - b,\\n       'multiply': a * b,\\n       'divide': a / b if b != 0 else None\\n    }\", 'info': 'Feature generated by LLMAgent', 'upgraded': \"def calculator(a, b):\\n    return {\\n       'add': a + b,\\n       'subtract': a - b,\\n       'multiply': a * b,\\n       'divide': a / b if b != 0 else None\\n    }\"}}, 'createdAt': datetime.datetime(2025, 4, 10, 8, 10, 39, 801417), 'updatedAt': datetime.datetime(2025, 4, 10, 8, 12, 3, 692531)}}\n"
          ]
        }
      ]
    },
    {
      "cell_type": "code",
      "source": [
        "# Simulate an upgrade request for the same feature.\n",
        "upgrade_prompt = (\"Upgrade the calculator app to include scientific functions such as square root \"\n",
        "                  \"and exponentiation.\")\n",
        "print(\"\\n=== Processing App Upgrade Request ===\")\n",
        "app = await council.process_request(app_id, feature_name, upgrade_prompt, {\"info\": \"Upgraded feature data\"})\n",
        "print(\"\\n--- App after upgrade ---\")\n",
        "print(app)\n",
        "print(\"\\n--- Final Registry ---\")\n",
        "print(app_registry.apps)"
      ],
      "metadata": {
        "colab": {
          "base_uri": "https://localhost:8080/"
        },
        "id": "Aui46FttwFGH",
        "outputId": "c01a1716-b403-4f28-b6b1-3d5ee969be46"
      },
      "execution_count": 15,
      "outputs": [
        {
          "output_type": "stream",
          "name": "stdout",
          "text": [
            "\n",
            "=== Processing App Upgrade Request ===\n",
            "MaintainerAgent: Upgrading feature 'calculator' using LLM (prompt: Upgrade the calculator app to include scientific functions such as square root and exponentiation.)\n",
            "DestroyerAgent: Checking for stale apps...\n",
            "\n",
            "--- App after upgrade ---\n",
            "{'id': 'calc', 'features': {'calculator': {'generatedCode': \"def calculator(a, b):\\n    return {\\n       'add': a + b,\\n       'subtract': a - b,\\n       'multiply': a * b,\\n       'divide': a / b if b != 0 else None\\n    }\", 'info': 'Feature generated by LLMAgent', 'upgraded': \"def calculator(a, b):\\n    return {\\n       'add': a + b,\\n       'subtract': a - b,\\n       'multiply': a * b,\\n       'divide': a / b if b != 0 else None\\n    }\"}}, 'createdAt': datetime.datetime(2025, 4, 10, 8, 10, 39, 801417), 'updatedAt': datetime.datetime(2025, 4, 10, 8, 15, 13, 529905)}\n",
            "\n",
            "--- Final Registry ---\n",
            "{'calc': {'id': 'calc', 'features': {'calculator': {'generatedCode': \"def calculator(a, b):\\n    return {\\n       'add': a + b,\\n       'subtract': a - b,\\n       'multiply': a * b,\\n       'divide': a / b if b != 0 else None\\n    }\", 'info': 'Feature generated by LLMAgent', 'upgraded': \"def calculator(a, b):\\n    return {\\n       'add': a + b,\\n       'subtract': a - b,\\n       'multiply': a * b,\\n       'divide': a / b if b != 0 else None\\n    }\"}}, 'createdAt': datetime.datetime(2025, 4, 10, 8, 10, 39, 801417), 'updatedAt': datetime.datetime(2025, 4, 10, 8, 15, 13, 529905)}}\n"
          ]
        }
      ]
    }
  ]
}